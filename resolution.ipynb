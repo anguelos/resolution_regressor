{
 "cells": [
  {
   "cell_type": "code",
   "execution_count": 1,
   "id": "7d9f1e4f",
   "metadata": {},
   "outputs": [],
   "source": [
    "import glob\n",
    "import json\n",
    "import pandas as pd\n",
    "import numpy as np\n",
    "from pathlib import Path\n",
    "import tqdm\n",
    "import matplotlib.pyplot as plt\n",
    "%matplotlib inline\n",
    "import seaborn as sns\n",
    "import sys\n",
    "sys.path.append(\"./bin\")\n",
    "from ddp_train_resolution import ScaleDataset, ResResNet, resume, args, save\n",
    "import tqdm"
   ]
  },
  {
   "cell_type": "code",
   "execution_count": 2,
   "id": "36130908",
   "metadata": {},
   "outputs": [],
   "source": [
    "def get_full_image(gt_path):\n",
    "    full_img_seal_prediction_path = Path(gt_path).parent().with_name(p.name.split('.')[0]).with_suffix(\".seals.pred.json\")\n",
    "    d = json.load(open(full_img_seal_prediction_path, \"r\").read()) # reading from the json in order to avoid loadin the image\n",
    "    img_path = glob.glob(f\"{full_img_seal_prediction_path.replace('.seals.pred.json','.img.*')}\")[0]\n",
    "    return d[\"image_wh\"], img_path\n",
    "    "
   ]
  },
  {
   "cell_type": "code",
   "execution_count": 3,
   "id": "319f0e7b",
   "metadata": {},
   "outputs": [
    {
     "name": "stdout",
     "output_type": "stream",
     "text": [
      "data/1000_CVCharters/AT-StiAHe/a1bdd45f2b4bf61d31603123cb316526/f62d5e17562bf731b59658ff8cb9a8a5/0fadaa51377c126b9373da1daf209310.seals.crops/4.resolution.gt.json\n"
     ]
    }
   ],
   "source": [
    "#all_gt_files = glob.glob(\"data/1000_CVCharters/*/*/*/*.crops/*.resolution.gt.json\")\n",
    "#print(all_gt_files[0])\n",
    "#!cat ../1000_CVCharters/AT-StiAHe/a1bdd45f2b4bf61d31603123cb316526/f62d5e17562bf731b59658ff8cb9a8a5/0fadaa51377c126b9373da1daf209310.seals.crops/4.resolution.gt.json\n",
    "\n"
   ]
  },
  {
   "cell_type": "code",
   "execution_count": 10,
   "id": "44d724d2",
   "metadata": {},
   "outputs": [],
   "source": [
    "model = ResResNet()\n",
    "hist = {\"train\": [], \"val\": [], arg_hist={}}\n",
    "epoch = 0\n",
    "#save(args.resume_path, model, epoch, hist)\n",
    "model, epoch, hist, arg_hist = resume(args.resume_path, model, args.device)\n",
    "\n",
    "writeable_area_dataset = ScaleDataset()"
   ]
  },
  {
   "cell_type": "code",
   "execution_count": null,
   "id": "b710c6df",
   "metadata": {},
   "outputs": [],
   "source": [
    "resolution_gt_glob=\"../../1000_CVCharters/*/*/*/*.seals.crops/*.resolution.gt.json\"\n",
    "resolution_gt_list = list(sorted(glob.glob(resolution_gt_glob)))\n",
    "train_resolution_gt_list = resolution_gt_list[100:]\n",
    "val_resolution_gt_list = resolution_gt_list[:100]\n",
    "\n",
    "writable_glob_subtuple = (\"[0-9]+\\.resolution\\.gt\\.json\", \"*.Img_WritableArea.jpg\")\n",
    "seal_glob_subtuple = (\"[0-9]+\\.resolution\\.gt\\.json\", \"*.Img_Seal.jpg\")\n",
    "calibration_glob_subtuple = (\"[0-9]+\\.resolution\\.gt\\.json\", \"*.Img_CalibrationCard.jpg\")\n",
    "\n",
    "train_writable_ds = ScaleDataset(resolution_gt_list=train_resolution_gt_list, input_glob_subtuple=writable_glob_subtuple)\n",
    "val_writable_ds = ScaleDataset(resolution_gt_list=val_resolution_gt_list, input_glob_subtuple=writable_glob_subtuple)\n",
    "\n",
    "train_seal_ds = ScaleDataset(resolution_gt_list=train_resolution_gt_list, input_glob_subtuple=writable_glob_subtuple)\n",
    "val_writable_ds = ScaleDataset(resolution_gt_list=val_resolution_gt_list, input_glob_subtuple=writable_glob_subtuple)\n"
   ]
  },
  {
   "cell_type": "code",
   "execution_count": 5,
   "id": "f1b42a5d",
   "metadata": {},
   "outputs": [
    {
     "data": {
      "text/html": [
       "<div>\n",
       "<style scoped>\n",
       "    .dataframe tbody tr th:only-of-type {\n",
       "        vertical-align: middle;\n",
       "    }\n",
       "\n",
       "    .dataframe tbody tr th {\n",
       "        vertical-align: top;\n",
       "    }\n",
       "\n",
       "    .dataframe thead th {\n",
       "        text-align: right;\n",
       "    }\n",
       "</style>\n",
       "<table border=\"1\" class=\"dataframe\">\n",
       "  <thead>\n",
       "    <tr style=\"text-align: right;\">\n",
       "      <th></th>\n",
       "      <th>PPCM</th>\n",
       "      <th>CRUDE_PPCM</th>\n",
       "    </tr>\n",
       "  </thead>\n",
       "  <tbody>\n",
       "    <tr>\n",
       "      <th>0</th>\n",
       "      <td>72.000278</td>\n",
       "      <td>73.743842</td>\n",
       "    </tr>\n",
       "    <tr>\n",
       "      <th>1</th>\n",
       "      <td>72.002500</td>\n",
       "      <td>73.054187</td>\n",
       "    </tr>\n",
       "    <tr>\n",
       "      <th>2</th>\n",
       "      <td>71.201124</td>\n",
       "      <td>71.428571</td>\n",
       "    </tr>\n",
       "    <tr>\n",
       "      <th>3</th>\n",
       "      <td>43.400461</td>\n",
       "      <td>45.320197</td>\n",
       "    </tr>\n",
       "    <tr>\n",
       "      <th>4</th>\n",
       "      <td>82.800242</td>\n",
       "      <td>29.458128</td>\n",
       "    </tr>\n",
       "    <tr>\n",
       "      <th>...</th>\n",
       "      <td>...</td>\n",
       "      <td>...</td>\n",
       "    </tr>\n",
       "    <tr>\n",
       "      <th>510</th>\n",
       "      <td>71.202528</td>\n",
       "      <td>73.940887</td>\n",
       "    </tr>\n",
       "    <tr>\n",
       "      <th>511</th>\n",
       "      <td>51.800386</td>\n",
       "      <td>54.137931</td>\n",
       "    </tr>\n",
       "    <tr>\n",
       "      <th>512</th>\n",
       "      <td>51.601550</td>\n",
       "      <td>54.088670</td>\n",
       "    </tr>\n",
       "    <tr>\n",
       "      <th>513</th>\n",
       "      <td>156.003205</td>\n",
       "      <td>159.556650</td>\n",
       "    </tr>\n",
       "    <tr>\n",
       "      <th>514</th>\n",
       "      <td>157.003185</td>\n",
       "      <td>159.950739</td>\n",
       "    </tr>\n",
       "  </tbody>\n",
       "</table>\n",
       "<p>515 rows × 2 columns</p>\n",
       "</div>"
      ],
      "text/plain": [
       "           PPCM  CRUDE_PPCM\n",
       "0     72.000278   73.743842\n",
       "1     72.002500   73.054187\n",
       "2     71.201124   71.428571\n",
       "3     43.400461   45.320197\n",
       "4     82.800242   29.458128\n",
       "..          ...         ...\n",
       "510   71.202528   73.940887\n",
       "511   51.800386   54.137931\n",
       "512   51.601550   54.088670\n",
       "513  156.003205  159.556650\n",
       "514  157.003185  159.950739\n",
       "\n",
       "[515 rows x 2 columns]"
      ]
     },
     "execution_count": 5,
     "metadata": {},
     "output_type": "execute_result"
    }
   ],
   "source": [
    "all_ppcm = []\n",
    "all_crude_ppcm = []\n",
    "for gt_file in all_gt_files:\n",
    "    ppcm, crude_ppcm = ScaleDataset.analyse_card(gt_file)\n",
    "    all_ppcm.append(ppcm)\n",
    "    all_crude_ppcm.append(crude_ppcm)\n",
    "\n",
    "data = pd.DataFrame(data={\"PPCM\":all_ppcm, \"CRUDE_PPCM\": all_crude_ppcm})\n",
    "\n",
    "data"
   ]
  },
  {
   "cell_type": "code",
   "execution_count": 6,
   "id": "b231a30f",
   "metadata": {},
   "outputs": [
    {
     "name": "stderr",
     "output_type": "stream",
     "text": [
      "/home/anguelos/.local/lib/python3.8/site-packages/seaborn/_decorators.py:36: FutureWarning: Pass the following variables as keyword args: x, y. From version 0.12, the only valid positional argument will be `data`, and passing other arguments without an explicit keyword will result in an error or misinterpretation.\n",
      "  warnings.warn(\n"
     ]
    },
    {
     "data": {
      "text/html": [
       "<div>\n",
       "<style scoped>\n",
       "    .dataframe tbody tr th:only-of-type {\n",
       "        vertical-align: middle;\n",
       "    }\n",
       "\n",
       "    .dataframe tbody tr th {\n",
       "        vertical-align: top;\n",
       "    }\n",
       "\n",
       "    .dataframe thead th {\n",
       "        text-align: right;\n",
       "    }\n",
       "</style>\n",
       "<table border=\"1\" class=\"dataframe\">\n",
       "  <thead>\n",
       "    <tr style=\"text-align: right;\">\n",
       "      <th></th>\n",
       "      <th>PPCM</th>\n",
       "      <th>CRUDE_PPCM</th>\n",
       "    </tr>\n",
       "  </thead>\n",
       "  <tbody>\n",
       "    <tr>\n",
       "      <th>PPCM</th>\n",
       "      <td>1.000000</td>\n",
       "      <td>0.632182</td>\n",
       "    </tr>\n",
       "    <tr>\n",
       "      <th>CRUDE_PPCM</th>\n",
       "      <td>0.632182</td>\n",
       "      <td>1.000000</td>\n",
       "    </tr>\n",
       "  </tbody>\n",
       "</table>\n",
       "</div>"
      ],
      "text/plain": [
       "                PPCM  CRUDE_PPCM\n",
       "PPCM        1.000000    0.632182\n",
       "CRUDE_PPCM  0.632182    1.000000"
      ]
     },
     "execution_count": 6,
     "metadata": {},
     "output_type": "execute_result"
    },
    {
     "data": {
      "image/png": "[encoded data removed]",
      "text/plain": [
       "<Figure size 360x360 with 1 Axes>"
      ]
     },
     "metadata": {
      "needs_background": "light"
     },
     "output_type": "display_data"
    }
   ],
   "source": [
    "#ax1 = data.plot.scatter(x='PPCM',y='CRUDE_PPCM',c='DarkBlue')\n",
    "\n",
    "sns.lmplot('PPCM', 'CRUDE_PPCM', data=data, fit_reg=True, scatter_kws={\"marker\": \"D\", \"s\": 20})\n",
    "plt.title('Scatter Plot of Data with Regression Line')\n",
    "plt.xlabel('PPCM')\n",
    "plt.ylabel('CRUDE_PPCM')\n",
    "data.corr()"
   ]
  },
  {
   "cell_type": "code",
   "execution_count": 8,
   "id": "160676a1",
   "metadata": {},
   "outputs": [
    {
     "name": "stdout",
     "output_type": "stream",
     "text": [
      "39.193897305247965\n"
     ]
    },
    {
     "name": "stderr",
     "output_type": "stream",
     "text": [
      "/home/anguelos/.local/lib/python3.8/site-packages/seaborn/_decorators.py:36: FutureWarning: Pass the following variables as keyword args: x, y. From version 0.12, the only valid positional argument will be `data`, and passing other arguments without an explicit keyword will result in an error or misinterpretation.\n",
      "  warnings.warn(\n"
     ]
    },
    {
     "data": {
      "text/html": [
       "<div>\n",
       "<style scoped>\n",
       "    .dataframe tbody tr th:only-of-type {\n",
       "        vertical-align: middle;\n",
       "    }\n",
       "\n",
       "    .dataframe tbody tr th {\n",
       "        vertical-align: top;\n",
       "    }\n",
       "\n",
       "    .dataframe thead th {\n",
       "        text-align: right;\n",
       "    }\n",
       "</style>\n",
       "<table border=\"1\" class=\"dataframe\">\n",
       "  <thead>\n",
       "    <tr style=\"text-align: right;\">\n",
       "      <th></th>\n",
       "      <th>PPCM</th>\n",
       "      <th>CRUDE_PPCM</th>\n",
       "    </tr>\n",
       "  </thead>\n",
       "  <tbody>\n",
       "    <tr>\n",
       "      <th>PPCM</th>\n",
       "      <td>1.000000</td>\n",
       "      <td>0.922386</td>\n",
       "    </tr>\n",
       "    <tr>\n",
       "      <th>CRUDE_PPCM</th>\n",
       "      <td>0.922386</td>\n",
       "      <td>1.000000</td>\n",
       "    </tr>\n",
       "  </tbody>\n",
       "</table>\n",
       "</div>"
      ],
      "text/plain": [
       "                PPCM  CRUDE_PPCM\n",
       "PPCM        1.000000    0.922386\n",
       "CRUDE_PPCM  0.922386    1.000000"
      ]
     },
     "execution_count": 8,
     "metadata": {},
     "output_type": "execute_result"
    },
    {
     "data": {
      "image/png": "[encoded data removed]",
      "text/plain": [
       "<Figure size 360x360 with 1 Axes>"
      ]
     },
     "metadata": {
      "needs_background": "light"
     },
     "output_type": "display_data"
    }
   ],
   "source": [
    "dif = (data[\"PPCM\"] - data[\"CRUDE_PPCM\"])**2\n",
    "print(sorted(dif.tolist())[int(.85*len(dif))])\n",
    "clean_data = data[dif<sorted(dif.tolist())[int(.98*len(dif))]]\n",
    "clean_data\n",
    "\n",
    "sns.lmplot('PPCM', 'CRUDE_PPCM', data=clean_data, fit_reg=True, scatter_kws={\"marker\": \"D\", \"s\": 20})\n",
    "plt.title('Scatter Plot of Data with Regression Line')\n",
    "plt.xlabel('PPCM(clean)')\n",
    "plt.ylabel('CRUDE_PPCM(clean)')\n",
    "clean_data.corr()\n",
    "\n",
    "#for thr in range(1,21):\n",
    "#    pass"
   ]
  }
 ],
 "metadata": {
  "kernelspec": {
   "display_name": "Python 3 (ipykernel)",
   "language": "python",
   "name": "python3"
  },
  "language_info": {
   "codemirror_mode": {
    "name": "ipython",
    "version": 3
   },
   "file_extension": ".py",
   "mimetype": "text/x-python",
   "name": "python",
   "nbconvert_exporter": "python",
   "pygments_lexer": "ipython3",
   "version": "3.8.10"
  }
 },
 "nbformat": 4,
 "nbformat_minor": 5
}
